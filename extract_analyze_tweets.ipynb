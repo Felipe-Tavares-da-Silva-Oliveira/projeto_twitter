{
 "cells": [
  {
   "cell_type": "code",
   "execution_count": null,
   "metadata": {},
   "outputs": [],
   "source": [
    "#Extrai Tweets"
   ]
  },
  {
   "cell_type": "code",
   "execution_count": null,
   "metadata": {
    "scrolled": true
   },
   "outputs": [],
   "source": [
    "##Instalando pacotes no jupyterlab\n",
    "!pip install tweepy datetime"
   ]
  },
  {
   "cell_type": "markdown",
   "metadata": {},
   "source": [
    "## PLAY"
   ]
  },
  {
   "cell_type": "code",
   "execution_count": null,
   "metadata": {
    "scrolled": true
   },
   "outputs": [],
   "source": [
    "!python get_tweets.py"
   ]
  },
  {
   "cell_type": "markdown",
   "metadata": {},
   "source": [
    "# Entendendo a Estrutura do JSON enviado pelo TWITTER"
   ]
  },
  {
   "cell_type": "code",
   "execution_count": 12,
   "metadata": {},
   "outputs": [],
   "source": [
    "import json"
   ]
  },
  {
   "cell_type": "code",
   "execution_count": 13,
   "metadata": {},
   "outputs": [],
   "source": [
    "#abrir o arquivo de tweets e ler as linhas\n",
    "\n",
    "with open('collected_tweets_2021-03-20-03-21-23.txt', 'r') as file:\n",
    "    tweets = file.readlines()"
   ]
  },
  {
   "cell_type": "code",
   "execution_count": 14,
   "metadata": {
    "scrolled": true
   },
   "outputs": [
    {
     "data": {
      "text/plain": [
       "'\"{\\\\\"created_at\\\\\":\\\\\"Sat Mar 20 06:21:18 +0000 2021\\\\\",\\\\\"id\\\\\":1373157685785370627,\\\\\"id_str\\\\\":\\\\\"1373157685785370627\\\\\",\\\\\"text\\\\\":\\\\\"RT @Marmel: Biden tripped.\\\\\\\\nHillary coughed.\\\\\\\\nTrump killed 500,000 Americans.\\\\\\\\n\\\\\\\\nGuess which the right is focussed on.\\\\\",\\\\\"source\\\\\":\\\\\"\\\\\\\\u003ca href=\\\\\\\\\\\\\"http:\\\\\\\\/\\\\\\\\/twitter.com\\\\\\\\/download\\\\\\\\/iphone\\\\\\\\\\\\\" rel=\\\\\\\\\\\\\"nofollow\\\\\\\\\\\\\"\\\\\\\\u003eTwitter for iPhone\\\\\\\\u003c\\\\\\\\/a\\\\\\\\u003e\\\\\",\\\\\"truncated\\\\\":false,\\\\\"in_reply_to_status_id\\\\\":null,\\\\\"in_reply_to_status_id_str\\\\\":null,\\\\\"in_reply_to_user_id\\\\\":null,\\\\\"in_reply_to_user_id_str\\\\\":null,\\\\\"in_reply_to_screen_name\\\\\":null,\\\\\"user\\\\\":{\\\\\"id\\\\\":389314921,\\\\\"id_str\\\\\":\\\\\"389314921\\\\\",\\\\\"name\\\\\":\\\\\"Embarrassed Former Republican\\\\\",\\\\\"screen_name\\\\\":\\\\\"DubLivitz\\\\\",\\\\\"location\\\\\":null,\\\\\"url\\\\\":null,\\\\\"description\\\\\":\\\\\"Lifetime Steelers fan - Snake River Rugby \\'Old Boy\\' - Rugby Coach - Beer connoisseur - Grumpy ol\\' Fart #LoveAndCourage #BoiseWho\\\\\",\\\\\"translator_type\\\\\":\\\\\"none\\\\\",\\\\\"protected\\\\\":false,\\\\\"verified\\\\\":false,\\\\\"followers_count\\\\\":393,\\\\\"friends_count\\\\\":717,\\\\\"listed_count\\\\\":4,\\\\\"favourites_count\\\\\":3817,\\\\\"statuses_count\\\\\":21959,\\\\\"created_at\\\\\":\\\\\"Wed Oct 12 06:24:43 +0000 2011\\\\\",\\\\\"utc_offset\\\\\":null,\\\\\"time_zone\\\\\":null,\\\\\"geo_enabled\\\\\":false,\\\\\"lang\\\\\":null,\\\\\"contributors_enabled\\\\\":false,\\\\\"is_translator\\\\\":false,\\\\\"profile_background_color\\\\\":\\\\\"C0DEED\\\\\",\\\\\"profile_background_image_url\\\\\":\\\\\"http:\\\\\\\\/\\\\\\\\/abs.twimg.com\\\\\\\\/images\\\\\\\\/themes\\\\\\\\/theme1\\\\\\\\/bg.png\\\\\",\\\\\"profile_background_image_url_https\\\\\":\\\\\"https:\\\\\\\\/\\\\\\\\/abs.twimg.com\\\\\\\\/images\\\\\\\\/themes\\\\\\\\/theme1\\\\\\\\/bg.png\\\\\",\\\\\"profile_background_tile\\\\\":false,\\\\\"profile_link_color\\\\\":\\\\\"1DA1F2\\\\\",\\\\\"profile_sidebar_border_color\\\\\":\\\\\"C0DEED\\\\\",\\\\\"profile_sidebar_fill_color\\\\\":\\\\\"DDEEF6\\\\\",\\\\\"profile_text_color\\\\\":\\\\\"333333\\\\\",\\\\\"profile_use_background_image\\\\\":true,\\\\\"profile_image_url\\\\\":\\\\\"http:\\\\\\\\/\\\\\\\\/pbs.twimg.com\\\\\\\\/profile_images\\\\\\\\/1585997368\\\\\\\\/DubLivitz_normal.jpg\\\\\",\\\\\"profile_image_url_https\\\\\":\\\\\"https:\\\\\\\\/\\\\\\\\/pbs.twimg.com\\\\\\\\/profile_images\\\\\\\\/1585997368\\\\\\\\/DubLivitz_normal.jpg\\\\\",\\\\\"profile_banner_url\\\\\":\\\\\"https:\\\\\\\\/\\\\\\\\/pbs.twimg.com\\\\\\\\/profile_banners\\\\\\\\/389314921\\\\\\\\/1610021541\\\\\",\\\\\"default_profile\\\\\":true,\\\\\"default_profile_image\\\\\":false,\\\\\"following\\\\\":null,\\\\\"follow_request_sent\\\\\":null,\\\\\"notifications\\\\\":null},\\\\\"geo\\\\\":null,\\\\\"coordinates\\\\\":null,\\\\\"place\\\\\":null,\\\\\"contributors\\\\\":null,\\\\\"retweeted_status\\\\\":{\\\\\"created_at\\\\\":\\\\\"Fri Mar 19 18:21:21 +0000 2021\\\\\",\\\\\"id\\\\\":1372976501977587713,\\\\\"id_str\\\\\":\\\\\"1372976501977587713\\\\\",\\\\\"text\\\\\":\\\\\"Biden tripped.\\\\\\\\nHillary coughed.\\\\\\\\nTrump killed 500,000 Americans.\\\\\\\\n\\\\\\\\nGuess which the right is focussed on.\\\\\",\\\\\"source\\\\\":\\\\\"\\\\\\\\u003ca href=\\\\\\\\\\\\\"https:\\\\\\\\/\\\\\\\\/mobile.twitter.com\\\\\\\\\\\\\" rel=\\\\\\\\\\\\\"nofollow\\\\\\\\\\\\\"\\\\\\\\u003eTwitter Web App\\\\\\\\u003c\\\\\\\\/a\\\\\\\\u003e\\\\\",\\\\\"truncated\\\\\":false,\\\\\"in_reply_to_status_id\\\\\":null,\\\\\"in_reply_to_status_id_str\\\\\":null,\\\\\"in_reply_to_user_id\\\\\":null,\\\\\"in_reply_to_user_id_str\\\\\":null,\\\\\"in_reply_to_screen_name\\\\\":null,\\\\\"user\\\\\":{\\\\\"id\\\\\":5513002,\\\\\"id_str\\\\\":\\\\\"5513002\\\\\",\\\\\"name\\\\\":\\\\\"Steve Marmel\\\\\",\\\\\"screen_name\\\\\":\\\\\"Marmel\\\\\",\\\\\"location\\\\\":\\\\\"Holly La La\\\\\",\\\\\"url\\\\\":\\\\\"http:\\\\\\\\/\\\\\\\\/Fb.com\\\\\\\\/TheMarmelPage\\\\\",\\\\\"description\\\\\":\\\\\"democracy and dogs\\\\\",\\\\\"translator_type\\\\\":\\\\\"none\\\\\",\\\\\"protected\\\\\":false,\\\\\"verified\\\\\":true,\\\\\"followers_count\\\\\":76402,\\\\\"friends_count\\\\\":2628,\\\\\"listed_count\\\\\":904,\\\\\"favourites_count\\\\\":26585,\\\\\"statuses_count\\\\\":103345,\\\\\"created_at\\\\\":\\\\\"Thu Apr 26 01:08:45 +0000 2007\\\\\",\\\\\"utc_offset\\\\\":null,\\\\\"time_zone\\\\\":null,\\\\\"geo_enabled\\\\\":false,\\\\\"lang\\\\\":null,\\\\\"contributors_enabled\\\\\":false,\\\\\"is_translator\\\\\":false,\\\\\"profile_background_color\\\\\":\\\\\"9AE4E8\\\\\",\\\\\"profile_background_image_url\\\\\":\\\\\"http:\\\\\\\\/\\\\\\\\/abs.twimg.com\\\\\\\\/images\\\\\\\\/themes\\\\\\\\/theme1\\\\\\\\/bg.png\\\\\",\\\\\"profile_background_image_url_https\\\\\":\\\\\"https:\\\\\\\\/\\\\\\\\/abs.twimg.com\\\\\\\\/images\\\\\\\\/themes\\\\\\\\/theme1\\\\\\\\/bg.png\\\\\",\\\\\"profile_background_tile\\\\\":true,\\\\\"profile_link_color\\\\\":\\\\\"0084B4\\\\\",\\\\\"profile_sidebar_border_color\\\\\":\\\\\"BDDCAD\\\\\",\\\\\"profile_sidebar_fill_color\\\\\":\\\\\"DDFFCC\\\\\",\\\\\"profile_text_color\\\\\":\\\\\"333333\\\\\",\\\\\"profile_use_background_image\\\\\":true,\\\\\"profile_image_url\\\\\":\\\\\"http:\\\\\\\\/\\\\\\\\/pbs.twimg.com\\\\\\\\/profile_images\\\\\\\\/1339661883037503488\\\\\\\\/Vd_RLEXX_normal.jpg\\\\\",\\\\\"profile_image_url_https\\\\\":\\\\\"https:\\\\\\\\/\\\\\\\\/pbs.twimg.com\\\\\\\\/profile_images\\\\\\\\/1339661883037503488\\\\\\\\/Vd_RLEXX_normal.jpg\\\\\",\\\\\"profile_banner_url\\\\\":\\\\\"https:\\\\\\\\/\\\\\\\\/pbs.twimg.com\\\\\\\\/profile_banners\\\\\\\\/5513002\\\\\\\\/1601895999\\\\\",\\\\\"default_profile\\\\\":false,\\\\\"default_profile_image\\\\\":false,\\\\\"following\\\\\":null,\\\\\"follow_request_sent\\\\\":null,\\\\\"notifications\\\\\":null},\\\\\"geo\\\\\":null,\\\\\"coordinates\\\\\":null,\\\\\"place\\\\\":null,\\\\\"contributors\\\\\":null,\\\\\"is_quote_status\\\\\":false,\\\\\"quote_count\\\\\":197,\\\\\"reply_count\\\\\":348,\\\\\"retweet_count\\\\\":7523,\\\\\"favorite_count\\\\\":41146,\\\\\"entities\\\\\":{\\\\\"hashtags\\\\\":[],\\\\\"urls\\\\\":[],\\\\\"user_mentions\\\\\":[],\\\\\"symbols\\\\\":[]},\\\\\"favorited\\\\\":false,\\\\\"retweeted\\\\\":false,\\\\\"filter_level\\\\\":\\\\\"low\\\\\",\\\\\"lang\\\\\":\\\\\"en\\\\\"},\\\\\"is_quote_status\\\\\":false,\\\\\"quote_count\\\\\":0,\\\\\"reply_count\\\\\":0,\\\\\"retweet_count\\\\\":0,\\\\\"favorite_count\\\\\":0,\\\\\"entities\\\\\":{\\\\\"hashtags\\\\\":[],\\\\\"urls\\\\\":[],\\\\\"user_mentions\\\\\":[{\\\\\"screen_name\\\\\":\\\\\"Marmel\\\\\",\\\\\"name\\\\\":\\\\\"Steve Marmel\\\\\",\\\\\"id\\\\\":5513002,\\\\\"id_str\\\\\":\\\\\"5513002\\\\\",\\\\\"indices\\\\\":[3,10]}],\\\\\"symbols\\\\\":[]},\\\\\"favorited\\\\\":false,\\\\\"retweeted\\\\\":false,\\\\\"filter_level\\\\\":\\\\\"low\\\\\",\\\\\"lang\\\\\":\\\\\"en\\\\\",\\\\\"timestamp_ms\\\\\":\\\\\"1616221278984\\\\\"}\\\\r\\\\n\"\\n'"
      ]
     },
     "execution_count": 14,
     "metadata": {},
     "output_type": "execute_result"
    }
   ],
   "source": [
    "#acessando a primeira linha do tweet\n",
    "tweets[0]"
   ]
  },
  {
   "cell_type": "code",
   "execution_count": 15,
   "metadata": {},
   "outputs": [],
   "source": [
    "#gerando arquivo com um tweet para analise no formato json\n",
    "with open('tweet.json', 'w') as f:\n",
    "    #json.dump exporta um json\n",
    "    json.dump(\n",
    "        json.loads( json.loads(tweets[0] ) ), \n",
    "        f\n",
    "    )"
   ]
  },
  {
   "cell_type": "code",
   "execution_count": 16,
   "metadata": {},
   "outputs": [
    {
     "data": {
      "text/plain": [
       "str"
      ]
     },
     "execution_count": 16,
     "metadata": {},
     "output_type": "execute_result"
    }
   ],
   "source": [
    "#verificando o tipo do objeto\n",
    "\n",
    "type(\n",
    "json.loads(tweets[0])\n",
    ")"
   ]
  },
  {
   "cell_type": "code",
   "execution_count": 17,
   "metadata": {
    "scrolled": true
   },
   "outputs": [
    {
     "data": {
      "text/plain": [
       "{'created_at': 'Sat Mar 20 06:21:18 +0000 2021',\n",
       " 'id': 1373157685785370627,\n",
       " 'id_str': '1373157685785370627',\n",
       " 'text': 'RT @Marmel: Biden tripped.\\nHillary coughed.\\nTrump killed 500,000 Americans.\\n\\nGuess which the right is focussed on.',\n",
       " 'source': '<a href=\"http://twitter.com/download/iphone\" rel=\"nofollow\">Twitter for iPhone</a>',\n",
       " 'truncated': False,\n",
       " 'in_reply_to_status_id': None,\n",
       " 'in_reply_to_status_id_str': None,\n",
       " 'in_reply_to_user_id': None,\n",
       " 'in_reply_to_user_id_str': None,\n",
       " 'in_reply_to_screen_name': None,\n",
       " 'user': {'id': 389314921,\n",
       "  'id_str': '389314921',\n",
       "  'name': 'Embarrassed Former Republican',\n",
       "  'screen_name': 'DubLivitz',\n",
       "  'location': None,\n",
       "  'url': None,\n",
       "  'description': \"Lifetime Steelers fan - Snake River Rugby 'Old Boy' - Rugby Coach - Beer connoisseur - Grumpy ol' Fart #LoveAndCourage #BoiseWho\",\n",
       "  'translator_type': 'none',\n",
       "  'protected': False,\n",
       "  'verified': False,\n",
       "  'followers_count': 393,\n",
       "  'friends_count': 717,\n",
       "  'listed_count': 4,\n",
       "  'favourites_count': 3817,\n",
       "  'statuses_count': 21959,\n",
       "  'created_at': 'Wed Oct 12 06:24:43 +0000 2011',\n",
       "  'utc_offset': None,\n",
       "  'time_zone': None,\n",
       "  'geo_enabled': False,\n",
       "  'lang': None,\n",
       "  'contributors_enabled': False,\n",
       "  'is_translator': False,\n",
       "  'profile_background_color': 'C0DEED',\n",
       "  'profile_background_image_url': 'http://abs.twimg.com/images/themes/theme1/bg.png',\n",
       "  'profile_background_image_url_https': 'https://abs.twimg.com/images/themes/theme1/bg.png',\n",
       "  'profile_background_tile': False,\n",
       "  'profile_link_color': '1DA1F2',\n",
       "  'profile_sidebar_border_color': 'C0DEED',\n",
       "  'profile_sidebar_fill_color': 'DDEEF6',\n",
       "  'profile_text_color': '333333',\n",
       "  'profile_use_background_image': True,\n",
       "  'profile_image_url': 'http://pbs.twimg.com/profile_images/1585997368/DubLivitz_normal.jpg',\n",
       "  'profile_image_url_https': 'https://pbs.twimg.com/profile_images/1585997368/DubLivitz_normal.jpg',\n",
       "  'profile_banner_url': 'https://pbs.twimg.com/profile_banners/389314921/1610021541',\n",
       "  'default_profile': True,\n",
       "  'default_profile_image': False,\n",
       "  'following': None,\n",
       "  'follow_request_sent': None,\n",
       "  'notifications': None},\n",
       " 'geo': None,\n",
       " 'coordinates': None,\n",
       " 'place': None,\n",
       " 'contributors': None,\n",
       " 'retweeted_status': {'created_at': 'Fri Mar 19 18:21:21 +0000 2021',\n",
       "  'id': 1372976501977587713,\n",
       "  'id_str': '1372976501977587713',\n",
       "  'text': 'Biden tripped.\\nHillary coughed.\\nTrump killed 500,000 Americans.\\n\\nGuess which the right is focussed on.',\n",
       "  'source': '<a href=\"https://mobile.twitter.com\" rel=\"nofollow\">Twitter Web App</a>',\n",
       "  'truncated': False,\n",
       "  'in_reply_to_status_id': None,\n",
       "  'in_reply_to_status_id_str': None,\n",
       "  'in_reply_to_user_id': None,\n",
       "  'in_reply_to_user_id_str': None,\n",
       "  'in_reply_to_screen_name': None,\n",
       "  'user': {'id': 5513002,\n",
       "   'id_str': '5513002',\n",
       "   'name': 'Steve Marmel',\n",
       "   'screen_name': 'Marmel',\n",
       "   'location': 'Holly La La',\n",
       "   'url': 'http://Fb.com/TheMarmelPage',\n",
       "   'description': 'democracy and dogs',\n",
       "   'translator_type': 'none',\n",
       "   'protected': False,\n",
       "   'verified': True,\n",
       "   'followers_count': 76402,\n",
       "   'friends_count': 2628,\n",
       "   'listed_count': 904,\n",
       "   'favourites_count': 26585,\n",
       "   'statuses_count': 103345,\n",
       "   'created_at': 'Thu Apr 26 01:08:45 +0000 2007',\n",
       "   'utc_offset': None,\n",
       "   'time_zone': None,\n",
       "   'geo_enabled': False,\n",
       "   'lang': None,\n",
       "   'contributors_enabled': False,\n",
       "   'is_translator': False,\n",
       "   'profile_background_color': '9AE4E8',\n",
       "   'profile_background_image_url': 'http://abs.twimg.com/images/themes/theme1/bg.png',\n",
       "   'profile_background_image_url_https': 'https://abs.twimg.com/images/themes/theme1/bg.png',\n",
       "   'profile_background_tile': True,\n",
       "   'profile_link_color': '0084B4',\n",
       "   'profile_sidebar_border_color': 'BDDCAD',\n",
       "   'profile_sidebar_fill_color': 'DDFFCC',\n",
       "   'profile_text_color': '333333',\n",
       "   'profile_use_background_image': True,\n",
       "   'profile_image_url': 'http://pbs.twimg.com/profile_images/1339661883037503488/Vd_RLEXX_normal.jpg',\n",
       "   'profile_image_url_https': 'https://pbs.twimg.com/profile_images/1339661883037503488/Vd_RLEXX_normal.jpg',\n",
       "   'profile_banner_url': 'https://pbs.twimg.com/profile_banners/5513002/1601895999',\n",
       "   'default_profile': False,\n",
       "   'default_profile_image': False,\n",
       "   'following': None,\n",
       "   'follow_request_sent': None,\n",
       "   'notifications': None},\n",
       "  'geo': None,\n",
       "  'coordinates': None,\n",
       "  'place': None,\n",
       "  'contributors': None,\n",
       "  'is_quote_status': False,\n",
       "  'quote_count': 197,\n",
       "  'reply_count': 348,\n",
       "  'retweet_count': 7523,\n",
       "  'favorite_count': 41146,\n",
       "  'entities': {'hashtags': [], 'urls': [], 'user_mentions': [], 'symbols': []},\n",
       "  'favorited': False,\n",
       "  'retweeted': False,\n",
       "  'filter_level': 'low',\n",
       "  'lang': 'en'},\n",
       " 'is_quote_status': False,\n",
       " 'quote_count': 0,\n",
       " 'reply_count': 0,\n",
       " 'retweet_count': 0,\n",
       " 'favorite_count': 0,\n",
       " 'entities': {'hashtags': [],\n",
       "  'urls': [],\n",
       "  'user_mentions': [{'screen_name': 'Marmel',\n",
       "    'name': 'Steve Marmel',\n",
       "    'id': 5513002,\n",
       "    'id_str': '5513002',\n",
       "    'indices': [3, 10]}],\n",
       "  'symbols': []},\n",
       " 'favorited': False,\n",
       " 'retweeted': False,\n",
       " 'filter_level': 'low',\n",
       " 'lang': 'en',\n",
       " 'timestamp_ms': '1616221278984'}"
      ]
     },
     "execution_count": 17,
     "metadata": {},
     "output_type": "execute_result"
    }
   ],
   "source": [
    "json.loads(\n",
    "json.loads(tweets[0])\n",
    ")"
   ]
  },
  {
   "cell_type": "code",
   "execution_count": 18,
   "metadata": {},
   "outputs": [
    {
     "data": {
      "text/plain": [
       "dict"
      ]
     },
     "execution_count": 18,
     "metadata": {},
     "output_type": "execute_result"
    }
   ],
   "source": [
    "#transformando o json em dict\n",
    "type(\n",
    "    json.loads(\n",
    "        json.loads(tweets[0])\n",
    "    )\n",
    ")"
   ]
  },
  {
   "cell_type": "code",
   "execution_count": 19,
   "metadata": {
    "scrolled": true
   },
   "outputs": [
    {
     "data": {
      "text/plain": [
       "{'created_at': 'Sat Mar 20 06:21:18 +0000 2021',\n",
       " 'id': 1373157685785370627,\n",
       " 'id_str': '1373157685785370627',\n",
       " 'text': 'RT @Marmel: Biden tripped.\\nHillary coughed.\\nTrump killed 500,000 Americans.\\n\\nGuess which the right is focussed on.',\n",
       " 'source': '<a href=\"http://twitter.com/download/iphone\" rel=\"nofollow\">Twitter for iPhone</a>',\n",
       " 'truncated': False,\n",
       " 'in_reply_to_status_id': None,\n",
       " 'in_reply_to_status_id_str': None,\n",
       " 'in_reply_to_user_id': None,\n",
       " 'in_reply_to_user_id_str': None,\n",
       " 'in_reply_to_screen_name': None,\n",
       " 'user': {'id': 389314921,\n",
       "  'id_str': '389314921',\n",
       "  'name': 'Embarrassed Former Republican',\n",
       "  'screen_name': 'DubLivitz',\n",
       "  'location': None,\n",
       "  'url': None,\n",
       "  'description': \"Lifetime Steelers fan - Snake River Rugby 'Old Boy' - Rugby Coach - Beer connoisseur - Grumpy ol' Fart #LoveAndCourage #BoiseWho\",\n",
       "  'translator_type': 'none',\n",
       "  'protected': False,\n",
       "  'verified': False,\n",
       "  'followers_count': 393,\n",
       "  'friends_count': 717,\n",
       "  'listed_count': 4,\n",
       "  'favourites_count': 3817,\n",
       "  'statuses_count': 21959,\n",
       "  'created_at': 'Wed Oct 12 06:24:43 +0000 2011',\n",
       "  'utc_offset': None,\n",
       "  'time_zone': None,\n",
       "  'geo_enabled': False,\n",
       "  'lang': None,\n",
       "  'contributors_enabled': False,\n",
       "  'is_translator': False,\n",
       "  'profile_background_color': 'C0DEED',\n",
       "  'profile_background_image_url': 'http://abs.twimg.com/images/themes/theme1/bg.png',\n",
       "  'profile_background_image_url_https': 'https://abs.twimg.com/images/themes/theme1/bg.png',\n",
       "  'profile_background_tile': False,\n",
       "  'profile_link_color': '1DA1F2',\n",
       "  'profile_sidebar_border_color': 'C0DEED',\n",
       "  'profile_sidebar_fill_color': 'DDEEF6',\n",
       "  'profile_text_color': '333333',\n",
       "  'profile_use_background_image': True,\n",
       "  'profile_image_url': 'http://pbs.twimg.com/profile_images/1585997368/DubLivitz_normal.jpg',\n",
       "  'profile_image_url_https': 'https://pbs.twimg.com/profile_images/1585997368/DubLivitz_normal.jpg',\n",
       "  'profile_banner_url': 'https://pbs.twimg.com/profile_banners/389314921/1610021541',\n",
       "  'default_profile': True,\n",
       "  'default_profile_image': False,\n",
       "  'following': None,\n",
       "  'follow_request_sent': None,\n",
       "  'notifications': None},\n",
       " 'geo': None,\n",
       " 'coordinates': None,\n",
       " 'place': None,\n",
       " 'contributors': None,\n",
       " 'retweeted_status': {'created_at': 'Fri Mar 19 18:21:21 +0000 2021',\n",
       "  'id': 1372976501977587713,\n",
       "  'id_str': '1372976501977587713',\n",
       "  'text': 'Biden tripped.\\nHillary coughed.\\nTrump killed 500,000 Americans.\\n\\nGuess which the right is focussed on.',\n",
       "  'source': '<a href=\"https://mobile.twitter.com\" rel=\"nofollow\">Twitter Web App</a>',\n",
       "  'truncated': False,\n",
       "  'in_reply_to_status_id': None,\n",
       "  'in_reply_to_status_id_str': None,\n",
       "  'in_reply_to_user_id': None,\n",
       "  'in_reply_to_user_id_str': None,\n",
       "  'in_reply_to_screen_name': None,\n",
       "  'user': {'id': 5513002,\n",
       "   'id_str': '5513002',\n",
       "   'name': 'Steve Marmel',\n",
       "   'screen_name': 'Marmel',\n",
       "   'location': 'Holly La La',\n",
       "   'url': 'http://Fb.com/TheMarmelPage',\n",
       "   'description': 'democracy and dogs',\n",
       "   'translator_type': 'none',\n",
       "   'protected': False,\n",
       "   'verified': True,\n",
       "   'followers_count': 76402,\n",
       "   'friends_count': 2628,\n",
       "   'listed_count': 904,\n",
       "   'favourites_count': 26585,\n",
       "   'statuses_count': 103345,\n",
       "   'created_at': 'Thu Apr 26 01:08:45 +0000 2007',\n",
       "   'utc_offset': None,\n",
       "   'time_zone': None,\n",
       "   'geo_enabled': False,\n",
       "   'lang': None,\n",
       "   'contributors_enabled': False,\n",
       "   'is_translator': False,\n",
       "   'profile_background_color': '9AE4E8',\n",
       "   'profile_background_image_url': 'http://abs.twimg.com/images/themes/theme1/bg.png',\n",
       "   'profile_background_image_url_https': 'https://abs.twimg.com/images/themes/theme1/bg.png',\n",
       "   'profile_background_tile': True,\n",
       "   'profile_link_color': '0084B4',\n",
       "   'profile_sidebar_border_color': 'BDDCAD',\n",
       "   'profile_sidebar_fill_color': 'DDFFCC',\n",
       "   'profile_text_color': '333333',\n",
       "   'profile_use_background_image': True,\n",
       "   'profile_image_url': 'http://pbs.twimg.com/profile_images/1339661883037503488/Vd_RLEXX_normal.jpg',\n",
       "   'profile_image_url_https': 'https://pbs.twimg.com/profile_images/1339661883037503488/Vd_RLEXX_normal.jpg',\n",
       "   'profile_banner_url': 'https://pbs.twimg.com/profile_banners/5513002/1601895999',\n",
       "   'default_profile': False,\n",
       "   'default_profile_image': False,\n",
       "   'following': None,\n",
       "   'follow_request_sent': None,\n",
       "   'notifications': None},\n",
       "  'geo': None,\n",
       "  'coordinates': None,\n",
       "  'place': None,\n",
       "  'contributors': None,\n",
       "  'is_quote_status': False,\n",
       "  'quote_count': 197,\n",
       "  'reply_count': 348,\n",
       "  'retweet_count': 7523,\n",
       "  'favorite_count': 41146,\n",
       "  'entities': {'hashtags': [], 'urls': [], 'user_mentions': [], 'symbols': []},\n",
       "  'favorited': False,\n",
       "  'retweeted': False,\n",
       "  'filter_level': 'low',\n",
       "  'lang': 'en'},\n",
       " 'is_quote_status': False,\n",
       " 'quote_count': 0,\n",
       " 'reply_count': 0,\n",
       " 'retweet_count': 0,\n",
       " 'favorite_count': 0,\n",
       " 'entities': {'hashtags': [],\n",
       "  'urls': [],\n",
       "  'user_mentions': [{'screen_name': 'Marmel',\n",
       "    'name': 'Steve Marmel',\n",
       "    'id': 5513002,\n",
       "    'id_str': '5513002',\n",
       "    'indices': [3, 10]}],\n",
       "  'symbols': []},\n",
       " 'favorited': False,\n",
       " 'retweeted': False,\n",
       " 'filter_level': 'low',\n",
       " 'lang': 'en',\n",
       " 'timestamp_ms': '1616221278984'}"
      ]
     },
     "execution_count": 19,
     "metadata": {},
     "output_type": "execute_result"
    }
   ],
   "source": [
    "#parse de um único tweet\n",
    "json.loads(\n",
    "        json.loads(tweets[0])\n",
    "    )"
   ]
  },
  {
   "cell_type": "code",
   "execution_count": 20,
   "metadata": {},
   "outputs": [
    {
     "data": {
      "text/plain": [
       "[0, 1, 2, 3, 4, 5, 6, 7, 8, 9]"
      ]
     },
     "execution_count": 20,
     "metadata": {},
     "output_type": "execute_result"
    }
   ],
   "source": [
    "#criando uma lista\n",
    "[i for i in range(10)]"
   ]
  },
  {
   "cell_type": "code",
   "execution_count": 21,
   "metadata": {},
   "outputs": [],
   "source": [
    "# criando uma lista com todos os tweets\n",
    "parsed_tweets = [json.loads( json.loads(i) ) for i in tweets]"
   ]
  },
  {
   "cell_type": "code",
   "execution_count": 22,
   "metadata": {},
   "outputs": [
    {
     "data": {
      "text/plain": [
       "{'created_at': 'Sat Mar 20 06:21:19 +0000 2021',\n",
       " 'id': 1373157685928071168,\n",
       " 'id_str': '1373157685928071168',\n",
       " 'text': \"@DafuqRUwearing @MightyHelios @RicoSuaveJD @thehill So you're just playing dumb and protecting Biden from criticism… https://t.co/WpBj33yA7C\",\n",
       " 'display_text_range': [52, 140],\n",
       " 'source': '<a href=\"http://twitter.com/download/android\" rel=\"nofollow\">Twitter for Android</a>',\n",
       " 'truncated': True,\n",
       " 'in_reply_to_status_id': 1373039303958409218,\n",
       " 'in_reply_to_status_id_str': '1373039303958409218',\n",
       " 'in_reply_to_user_id': 1249783933,\n",
       " 'in_reply_to_user_id_str': '1249783933',\n",
       " 'in_reply_to_screen_name': 'DafuqRUwearing',\n",
       " 'user': {'id': 716387836618878977,\n",
       "  'id_str': '716387836618878977',\n",
       "  'name': 'Liat #BLM✊🏻',\n",
       "  'screen_name': 'LiatLNS',\n",
       "  'location': 'Zapopan, Jalisco',\n",
       "  'url': 'http://llodsliat.tumblr.com/',\n",
       "  'description': \"He/Him | Furry n' shit | I speak Spanish and English | Socialist | Humanist | ACAB | Anti-Fascist | Banner by @pitadraws.\",\n",
       "  'translator_type': 'none',\n",
       "  'protected': False,\n",
       "  'verified': False,\n",
       "  'followers_count': 213,\n",
       "  'friends_count': 933,\n",
       "  'listed_count': 0,\n",
       "  'favourites_count': 95058,\n",
       "  'statuses_count': 53873,\n",
       "  'created_at': 'Sat Apr 02 22:12:24 +0000 2016',\n",
       "  'utc_offset': None,\n",
       "  'time_zone': None,\n",
       "  'geo_enabled': True,\n",
       "  'lang': None,\n",
       "  'contributors_enabled': False,\n",
       "  'is_translator': False,\n",
       "  'profile_background_color': '000000',\n",
       "  'profile_background_image_url': 'http://abs.twimg.com/images/themes/theme1/bg.png',\n",
       "  'profile_background_image_url_https': 'https://abs.twimg.com/images/themes/theme1/bg.png',\n",
       "  'profile_background_tile': False,\n",
       "  'profile_link_color': '91D2FA',\n",
       "  'profile_sidebar_border_color': '000000',\n",
       "  'profile_sidebar_fill_color': '000000',\n",
       "  'profile_text_color': '000000',\n",
       "  'profile_use_background_image': False,\n",
       "  'profile_image_url': 'http://pbs.twimg.com/profile_images/1349601016451375105/94Ooh5-J_normal.jpg',\n",
       "  'profile_image_url_https': 'https://pbs.twimg.com/profile_images/1349601016451375105/94Ooh5-J_normal.jpg',\n",
       "  'profile_banner_url': 'https://pbs.twimg.com/profile_banners/716387836618878977/1473822743',\n",
       "  'default_profile': False,\n",
       "  'default_profile_image': False,\n",
       "  'following': None,\n",
       "  'follow_request_sent': None,\n",
       "  'notifications': None},\n",
       " 'geo': None,\n",
       " 'coordinates': None,\n",
       " 'place': {'id': '8e098f6d686001a9',\n",
       "  'url': 'https://api.twitter.com/1.1/geo/id/8e098f6d686001a9.json',\n",
       "  'place_type': 'city',\n",
       "  'name': 'Zapopan',\n",
       "  'full_name': 'Zapopan, Jalisco',\n",
       "  'country_code': 'MX',\n",
       "  'country': 'Mexico',\n",
       "  'bounding_box': {'type': 'Polygon',\n",
       "   'coordinates': [[[-103.664175, 20.583418],\n",
       "     [-103.664175, 20.997896],\n",
       "     [-103.305374, 20.997896],\n",
       "     [-103.305374, 20.583418]]]},\n",
       "  'attributes': {}},\n",
       " 'contributors': None,\n",
       " 'is_quote_status': False,\n",
       " 'extended_tweet': {'full_text': \"@DafuqRUwearing @MightyHelios @RicoSuaveJD @thehill So you're just playing dumb and protecting Biden from criticism. At least I hope you're as heartless and logically consistent as to not care about the children in cages back when Trump did it.\",\n",
       "  'display_text_range': [52, 244],\n",
       "  'entities': {'hashtags': [],\n",
       "   'urls': [],\n",
       "   'user_mentions': [{'screen_name': 'DafuqRUwearing',\n",
       "     'name': 'MissKittyATX',\n",
       "     'id': 1249783933,\n",
       "     'id_str': '1249783933',\n",
       "     'indices': [0, 15]},\n",
       "    {'screen_name': 'MightyHelios',\n",
       "     'name': 'Mighty Helios',\n",
       "     'id': 1266173799528972288,\n",
       "     'id_str': '1266173799528972288',\n",
       "     'indices': [16, 29]},\n",
       "    {'screen_name': 'RicoSuaveJD',\n",
       "     'name': 'Rich Swinton 🇺🇸',\n",
       "     'id': 825030197237854209,\n",
       "     'id_str': '825030197237854209',\n",
       "     'indices': [30, 42]},\n",
       "    {'screen_name': 'thehill',\n",
       "     'name': 'The Hill',\n",
       "     'id': 1917731,\n",
       "     'id_str': '1917731',\n",
       "     'indices': [43, 51]}],\n",
       "   'symbols': []}},\n",
       " 'quote_count': 0,\n",
       " 'reply_count': 0,\n",
       " 'retweet_count': 0,\n",
       " 'favorite_count': 0,\n",
       " 'entities': {'hashtags': [],\n",
       "  'urls': [{'url': 'https://t.co/WpBj33yA7C',\n",
       "    'expanded_url': 'https://twitter.com/i/web/status/1373157685928071168',\n",
       "    'display_url': 'twitter.com/i/web/status/1…',\n",
       "    'indices': [117, 140]}],\n",
       "  'user_mentions': [{'screen_name': 'DafuqRUwearing',\n",
       "    'name': 'MissKittyATX',\n",
       "    'id': 1249783933,\n",
       "    'id_str': '1249783933',\n",
       "    'indices': [0, 15]},\n",
       "   {'screen_name': 'MightyHelios',\n",
       "    'name': 'Mighty Helios',\n",
       "    'id': 1266173799528972288,\n",
       "    'id_str': '1266173799528972288',\n",
       "    'indices': [16, 29]},\n",
       "   {'screen_name': 'RicoSuaveJD',\n",
       "    'name': 'Rich Swinton 🇺🇸',\n",
       "    'id': 825030197237854209,\n",
       "    'id_str': '825030197237854209',\n",
       "    'indices': [30, 42]},\n",
       "   {'screen_name': 'thehill',\n",
       "    'name': 'The Hill',\n",
       "    'id': 1917731,\n",
       "    'id_str': '1917731',\n",
       "    'indices': [43, 51]}],\n",
       "  'symbols': []},\n",
       " 'favorited': False,\n",
       " 'retweeted': False,\n",
       " 'filter_level': 'low',\n",
       " 'lang': 'en',\n",
       " 'timestamp_ms': '1616221279018'}"
      ]
     },
     "execution_count": 22,
     "metadata": {},
     "output_type": "execute_result"
    }
   ],
   "source": [
    "#verificando a lista criada na celular acima\n",
    "parsed_tweets[1]"
   ]
  },
  {
   "cell_type": "code",
   "execution_count": 25,
   "metadata": {},
   "outputs": [
    {
     "data": {
      "text/plain": [
       "1016"
      ]
     },
     "execution_count": 25,
     "metadata": {},
     "output_type": "execute_result"
    }
   ],
   "source": [
    "#contando quantidade de tweets coletados\n",
    "len(parsed_tweets)"
   ]
  },
  {
   "cell_type": "markdown",
   "metadata": {},
   "source": [
    "# Acessando as chaves do JSON (dicionário)"
   ]
  },
  {
   "cell_type": "code",
   "execution_count": 27,
   "metadata": {},
   "outputs": [],
   "source": [
    "#retorna todas as chaves que temos dentro do tweet e retorna as chaves do primeiro nível\n",
    "#parsed_tweets[0].keys()\n",
    "primeirotweet = parsed_tweets[0]"
   ]
  },
  {
   "cell_type": "code",
   "execution_count": 28,
   "metadata": {},
   "outputs": [
    {
     "data": {
      "text/plain": [
       "'RT @Marmel: Biden tripped.\\nHillary coughed.\\nTrump killed 500,000 Americans.\\n\\nGuess which the right is focussed on.'"
      ]
     },
     "execution_count": 28,
     "metadata": {},
     "output_type": "execute_result"
    }
   ],
   "source": [
    "#acessando as chaves dentro do tweet no caso o texto do tweet\n",
    "#chave de primeiro nível (root)\n",
    "primeirotweet[\"text\"]"
   ]
  },
  {
   "cell_type": "code",
   "execution_count": 29,
   "metadata": {},
   "outputs": [
    {
     "data": {
      "text/plain": [
       "389314921"
      ]
     },
     "execution_count": 29,
     "metadata": {},
     "output_type": "execute_result"
    }
   ],
   "source": [
    "#Acessando a chave do user\n",
    "primeirotweet['user']['id']"
   ]
  },
  {
   "cell_type": "code",
   "execution_count": 30,
   "metadata": {},
   "outputs": [
    {
     "data": {
      "text/plain": [
       "'DubLivitz'"
      ]
     },
     "execution_count": 30,
     "metadata": {},
     "output_type": "execute_result"
    }
   ],
   "source": [
    "#Acessando o screen_name do user\n",
    "primeirotweet['user']['screen_name']"
   ]
  },
  {
   "cell_type": "code",
   "execution_count": 31,
   "metadata": {},
   "outputs": [
    {
     "data": {
      "text/plain": [
       "'Fri Mar 19 18:21:21 +0000 2021'"
      ]
     },
     "execution_count": 31,
     "metadata": {},
     "output_type": "execute_result"
    }
   ],
   "source": [
    "#coletando a informação do tweeter original\n",
    "primeirotweet['retweeted_status']['created_at']"
   ]
  },
  {
   "cell_type": "code",
   "execution_count": 38,
   "metadata": {},
   "outputs": [
    {
     "data": {
      "text/plain": [
       "{'hashtags': [], 'urls': [], 'user_mentions': [], 'symbols': []}"
      ]
     },
     "execution_count": 38,
     "metadata": {},
     "output_type": "execute_result"
    }
   ],
   "source": [
    "#Pegando o name do primeiro usuário mencionado no tweeter original\n",
    "primeirotweet['retweeted_status']['entities']"
   ]
  },
  {
   "cell_type": "markdown",
   "metadata": {},
   "source": [
    "# TRANSFORMAR OS TWEETS EM UMA ESTRUTURA RELACIONAL ANALISÁVEL"
   ]
  },
  {
   "cell_type": "code",
   "execution_count": 35,
   "metadata": {},
   "outputs": [],
   "source": [
    "import pandas as pd"
   ]
  },
  {
   "cell_type": "code",
   "execution_count": 44,
   "metadata": {},
   "outputs": [
    {
     "data": {
      "text/html": [
       "<div>\n",
       "<style scoped>\n",
       "    .dataframe tbody tr th:only-of-type {\n",
       "        vertical-align: middle;\n",
       "    }\n",
       "\n",
       "    .dataframe tbody tr th {\n",
       "        vertical-align: top;\n",
       "    }\n",
       "\n",
       "    .dataframe thead th {\n",
       "        text-align: right;\n",
       "    }\n",
       "</style>\n",
       "<table border=\"1\" class=\"dataframe\">\n",
       "  <thead>\n",
       "    <tr style=\"text-align: right;\">\n",
       "      <th></th>\n",
       "      <th>created_at</th>\n",
       "      <th>id</th>\n",
       "      <th>id_str</th>\n",
       "      <th>text</th>\n",
       "      <th>source</th>\n",
       "      <th>truncated</th>\n",
       "      <th>in_reply_to_status_id</th>\n",
       "      <th>in_reply_to_status_id_str</th>\n",
       "      <th>in_reply_to_user_id</th>\n",
       "      <th>in_reply_to_user_id_str</th>\n",
       "      <th>...</th>\n",
       "      <th>quote_count</th>\n",
       "      <th>reply_count</th>\n",
       "      <th>retweet_count</th>\n",
       "      <th>favorite_count</th>\n",
       "      <th>entities</th>\n",
       "      <th>favorited</th>\n",
       "      <th>retweeted</th>\n",
       "      <th>filter_level</th>\n",
       "      <th>lang</th>\n",
       "      <th>timestamp_ms</th>\n",
       "    </tr>\n",
       "  </thead>\n",
       "  <tbody>\n",
       "    <tr>\n",
       "      <th>id</th>\n",
       "      <td>Sat Mar 20 06:21:18 +0000 2021</td>\n",
       "      <td>1373157685785370627</td>\n",
       "      <td>1373157685785370627</td>\n",
       "      <td>RT @Marmel: Biden tripped.\\nHillary coughed.\\n...</td>\n",
       "      <td>&lt;a href=\"http://twitter.com/download/iphone\" r...</td>\n",
       "      <td>False</td>\n",
       "      <td>None</td>\n",
       "      <td>None</td>\n",
       "      <td>None</td>\n",
       "      <td>None</td>\n",
       "      <td>...</td>\n",
       "      <td>0</td>\n",
       "      <td>0</td>\n",
       "      <td>0</td>\n",
       "      <td>0</td>\n",
       "      <td>NaN</td>\n",
       "      <td>False</td>\n",
       "      <td>False</td>\n",
       "      <td>low</td>\n",
       "      <td>en</td>\n",
       "      <td>1616221278984</td>\n",
       "    </tr>\n",
       "    <tr>\n",
       "      <th>id_str</th>\n",
       "      <td>Sat Mar 20 06:21:18 +0000 2021</td>\n",
       "      <td>1373157685785370627</td>\n",
       "      <td>1373157685785370627</td>\n",
       "      <td>RT @Marmel: Biden tripped.\\nHillary coughed.\\n...</td>\n",
       "      <td>&lt;a href=\"http://twitter.com/download/iphone\" r...</td>\n",
       "      <td>False</td>\n",
       "      <td>None</td>\n",
       "      <td>None</td>\n",
       "      <td>None</td>\n",
       "      <td>None</td>\n",
       "      <td>...</td>\n",
       "      <td>0</td>\n",
       "      <td>0</td>\n",
       "      <td>0</td>\n",
       "      <td>0</td>\n",
       "      <td>NaN</td>\n",
       "      <td>False</td>\n",
       "      <td>False</td>\n",
       "      <td>low</td>\n",
       "      <td>en</td>\n",
       "      <td>1616221278984</td>\n",
       "    </tr>\n",
       "    <tr>\n",
       "      <th>name</th>\n",
       "      <td>Sat Mar 20 06:21:18 +0000 2021</td>\n",
       "      <td>1373157685785370627</td>\n",
       "      <td>1373157685785370627</td>\n",
       "      <td>RT @Marmel: Biden tripped.\\nHillary coughed.\\n...</td>\n",
       "      <td>&lt;a href=\"http://twitter.com/download/iphone\" r...</td>\n",
       "      <td>False</td>\n",
       "      <td>None</td>\n",
       "      <td>None</td>\n",
       "      <td>None</td>\n",
       "      <td>None</td>\n",
       "      <td>...</td>\n",
       "      <td>0</td>\n",
       "      <td>0</td>\n",
       "      <td>0</td>\n",
       "      <td>0</td>\n",
       "      <td>NaN</td>\n",
       "      <td>False</td>\n",
       "      <td>False</td>\n",
       "      <td>low</td>\n",
       "      <td>en</td>\n",
       "      <td>1616221278984</td>\n",
       "    </tr>\n",
       "    <tr>\n",
       "      <th>screen_name</th>\n",
       "      <td>Sat Mar 20 06:21:18 +0000 2021</td>\n",
       "      <td>1373157685785370627</td>\n",
       "      <td>1373157685785370627</td>\n",
       "      <td>RT @Marmel: Biden tripped.\\nHillary coughed.\\n...</td>\n",
       "      <td>&lt;a href=\"http://twitter.com/download/iphone\" r...</td>\n",
       "      <td>False</td>\n",
       "      <td>None</td>\n",
       "      <td>None</td>\n",
       "      <td>None</td>\n",
       "      <td>None</td>\n",
       "      <td>...</td>\n",
       "      <td>0</td>\n",
       "      <td>0</td>\n",
       "      <td>0</td>\n",
       "      <td>0</td>\n",
       "      <td>NaN</td>\n",
       "      <td>False</td>\n",
       "      <td>False</td>\n",
       "      <td>low</td>\n",
       "      <td>en</td>\n",
       "      <td>1616221278984</td>\n",
       "    </tr>\n",
       "    <tr>\n",
       "      <th>location</th>\n",
       "      <td>Sat Mar 20 06:21:18 +0000 2021</td>\n",
       "      <td>1373157685785370627</td>\n",
       "      <td>1373157685785370627</td>\n",
       "      <td>RT @Marmel: Biden tripped.\\nHillary coughed.\\n...</td>\n",
       "      <td>&lt;a href=\"http://twitter.com/download/iphone\" r...</td>\n",
       "      <td>False</td>\n",
       "      <td>None</td>\n",
       "      <td>None</td>\n",
       "      <td>None</td>\n",
       "      <td>None</td>\n",
       "      <td>...</td>\n",
       "      <td>0</td>\n",
       "      <td>0</td>\n",
       "      <td>0</td>\n",
       "      <td>0</td>\n",
       "      <td>NaN</td>\n",
       "      <td>False</td>\n",
       "      <td>False</td>\n",
       "      <td>low</td>\n",
       "      <td>en</td>\n",
       "      <td>1616221278984</td>\n",
       "    </tr>\n",
       "    <tr>\n",
       "      <th>...</th>\n",
       "      <td>...</td>\n",
       "      <td>...</td>\n",
       "      <td>...</td>\n",
       "      <td>...</td>\n",
       "      <td>...</td>\n",
       "      <td>...</td>\n",
       "      <td>...</td>\n",
       "      <td>...</td>\n",
       "      <td>...</td>\n",
       "      <td>...</td>\n",
       "      <td>...</td>\n",
       "      <td>...</td>\n",
       "      <td>...</td>\n",
       "      <td>...</td>\n",
       "      <td>...</td>\n",
       "      <td>...</td>\n",
       "      <td>...</td>\n",
       "      <td>...</td>\n",
       "      <td>...</td>\n",
       "      <td>...</td>\n",
       "      <td>...</td>\n",
       "    </tr>\n",
       "    <tr>\n",
       "      <th>filter_level</th>\n",
       "      <td>Sat Mar 20 06:21:18 +0000 2021</td>\n",
       "      <td>1373157685785370627</td>\n",
       "      <td>1373157685785370627</td>\n",
       "      <td>RT @Marmel: Biden tripped.\\nHillary coughed.\\n...</td>\n",
       "      <td>&lt;a href=\"http://twitter.com/download/iphone\" r...</td>\n",
       "      <td>False</td>\n",
       "      <td>None</td>\n",
       "      <td>None</td>\n",
       "      <td>None</td>\n",
       "      <td>None</td>\n",
       "      <td>...</td>\n",
       "      <td>0</td>\n",
       "      <td>0</td>\n",
       "      <td>0</td>\n",
       "      <td>0</td>\n",
       "      <td>NaN</td>\n",
       "      <td>False</td>\n",
       "      <td>False</td>\n",
       "      <td>low</td>\n",
       "      <td>en</td>\n",
       "      <td>1616221278984</td>\n",
       "    </tr>\n",
       "    <tr>\n",
       "      <th>hashtags</th>\n",
       "      <td>Sat Mar 20 06:21:18 +0000 2021</td>\n",
       "      <td>1373157685785370627</td>\n",
       "      <td>1373157685785370627</td>\n",
       "      <td>RT @Marmel: Biden tripped.\\nHillary coughed.\\n...</td>\n",
       "      <td>&lt;a href=\"http://twitter.com/download/iphone\" r...</td>\n",
       "      <td>False</td>\n",
       "      <td>None</td>\n",
       "      <td>None</td>\n",
       "      <td>None</td>\n",
       "      <td>None</td>\n",
       "      <td>...</td>\n",
       "      <td>0</td>\n",
       "      <td>0</td>\n",
       "      <td>0</td>\n",
       "      <td>0</td>\n",
       "      <td>[]</td>\n",
       "      <td>False</td>\n",
       "      <td>False</td>\n",
       "      <td>low</td>\n",
       "      <td>en</td>\n",
       "      <td>1616221278984</td>\n",
       "    </tr>\n",
       "    <tr>\n",
       "      <th>urls</th>\n",
       "      <td>Sat Mar 20 06:21:18 +0000 2021</td>\n",
       "      <td>1373157685785370627</td>\n",
       "      <td>1373157685785370627</td>\n",
       "      <td>RT @Marmel: Biden tripped.\\nHillary coughed.\\n...</td>\n",
       "      <td>&lt;a href=\"http://twitter.com/download/iphone\" r...</td>\n",
       "      <td>False</td>\n",
       "      <td>None</td>\n",
       "      <td>None</td>\n",
       "      <td>None</td>\n",
       "      <td>None</td>\n",
       "      <td>...</td>\n",
       "      <td>0</td>\n",
       "      <td>0</td>\n",
       "      <td>0</td>\n",
       "      <td>0</td>\n",
       "      <td>[]</td>\n",
       "      <td>False</td>\n",
       "      <td>False</td>\n",
       "      <td>low</td>\n",
       "      <td>en</td>\n",
       "      <td>1616221278984</td>\n",
       "    </tr>\n",
       "    <tr>\n",
       "      <th>user_mentions</th>\n",
       "      <td>Sat Mar 20 06:21:18 +0000 2021</td>\n",
       "      <td>1373157685785370627</td>\n",
       "      <td>1373157685785370627</td>\n",
       "      <td>RT @Marmel: Biden tripped.\\nHillary coughed.\\n...</td>\n",
       "      <td>&lt;a href=\"http://twitter.com/download/iphone\" r...</td>\n",
       "      <td>False</td>\n",
       "      <td>None</td>\n",
       "      <td>None</td>\n",
       "      <td>None</td>\n",
       "      <td>None</td>\n",
       "      <td>...</td>\n",
       "      <td>0</td>\n",
       "      <td>0</td>\n",
       "      <td>0</td>\n",
       "      <td>0</td>\n",
       "      <td>[{'screen_name': 'Marmel', 'name': 'Steve Marm...</td>\n",
       "      <td>False</td>\n",
       "      <td>False</td>\n",
       "      <td>low</td>\n",
       "      <td>en</td>\n",
       "      <td>1616221278984</td>\n",
       "    </tr>\n",
       "    <tr>\n",
       "      <th>symbols</th>\n",
       "      <td>Sat Mar 20 06:21:18 +0000 2021</td>\n",
       "      <td>1373157685785370627</td>\n",
       "      <td>1373157685785370627</td>\n",
       "      <td>RT @Marmel: Biden tripped.\\nHillary coughed.\\n...</td>\n",
       "      <td>&lt;a href=\"http://twitter.com/download/iphone\" r...</td>\n",
       "      <td>False</td>\n",
       "      <td>None</td>\n",
       "      <td>None</td>\n",
       "      <td>None</td>\n",
       "      <td>None</td>\n",
       "      <td>...</td>\n",
       "      <td>0</td>\n",
       "      <td>0</td>\n",
       "      <td>0</td>\n",
       "      <td>0</td>\n",
       "      <td>[]</td>\n",
       "      <td>False</td>\n",
       "      <td>False</td>\n",
       "      <td>low</td>\n",
       "      <td>en</td>\n",
       "      <td>1616221278984</td>\n",
       "    </tr>\n",
       "  </tbody>\n",
       "</table>\n",
       "<p>65 rows × 28 columns</p>\n",
       "</div>"
      ],
      "text/plain": [
       "                                   created_at                   id  \\\n",
       "id             Sat Mar 20 06:21:18 +0000 2021  1373157685785370627   \n",
       "id_str         Sat Mar 20 06:21:18 +0000 2021  1373157685785370627   \n",
       "name           Sat Mar 20 06:21:18 +0000 2021  1373157685785370627   \n",
       "screen_name    Sat Mar 20 06:21:18 +0000 2021  1373157685785370627   \n",
       "location       Sat Mar 20 06:21:18 +0000 2021  1373157685785370627   \n",
       "...                                       ...                  ...   \n",
       "filter_level   Sat Mar 20 06:21:18 +0000 2021  1373157685785370627   \n",
       "hashtags       Sat Mar 20 06:21:18 +0000 2021  1373157685785370627   \n",
       "urls           Sat Mar 20 06:21:18 +0000 2021  1373157685785370627   \n",
       "user_mentions  Sat Mar 20 06:21:18 +0000 2021  1373157685785370627   \n",
       "symbols        Sat Mar 20 06:21:18 +0000 2021  1373157685785370627   \n",
       "\n",
       "                            id_str  \\\n",
       "id             1373157685785370627   \n",
       "id_str         1373157685785370627   \n",
       "name           1373157685785370627   \n",
       "screen_name    1373157685785370627   \n",
       "location       1373157685785370627   \n",
       "...                            ...   \n",
       "filter_level   1373157685785370627   \n",
       "hashtags       1373157685785370627   \n",
       "urls           1373157685785370627   \n",
       "user_mentions  1373157685785370627   \n",
       "symbols        1373157685785370627   \n",
       "\n",
       "                                                            text  \\\n",
       "id             RT @Marmel: Biden tripped.\\nHillary coughed.\\n...   \n",
       "id_str         RT @Marmel: Biden tripped.\\nHillary coughed.\\n...   \n",
       "name           RT @Marmel: Biden tripped.\\nHillary coughed.\\n...   \n",
       "screen_name    RT @Marmel: Biden tripped.\\nHillary coughed.\\n...   \n",
       "location       RT @Marmel: Biden tripped.\\nHillary coughed.\\n...   \n",
       "...                                                          ...   \n",
       "filter_level   RT @Marmel: Biden tripped.\\nHillary coughed.\\n...   \n",
       "hashtags       RT @Marmel: Biden tripped.\\nHillary coughed.\\n...   \n",
       "urls           RT @Marmel: Biden tripped.\\nHillary coughed.\\n...   \n",
       "user_mentions  RT @Marmel: Biden tripped.\\nHillary coughed.\\n...   \n",
       "symbols        RT @Marmel: Biden tripped.\\nHillary coughed.\\n...   \n",
       "\n",
       "                                                          source  truncated  \\\n",
       "id             <a href=\"http://twitter.com/download/iphone\" r...      False   \n",
       "id_str         <a href=\"http://twitter.com/download/iphone\" r...      False   \n",
       "name           <a href=\"http://twitter.com/download/iphone\" r...      False   \n",
       "screen_name    <a href=\"http://twitter.com/download/iphone\" r...      False   \n",
       "location       <a href=\"http://twitter.com/download/iphone\" r...      False   \n",
       "...                                                          ...        ...   \n",
       "filter_level   <a href=\"http://twitter.com/download/iphone\" r...      False   \n",
       "hashtags       <a href=\"http://twitter.com/download/iphone\" r...      False   \n",
       "urls           <a href=\"http://twitter.com/download/iphone\" r...      False   \n",
       "user_mentions  <a href=\"http://twitter.com/download/iphone\" r...      False   \n",
       "symbols        <a href=\"http://twitter.com/download/iphone\" r...      False   \n",
       "\n",
       "              in_reply_to_status_id in_reply_to_status_id_str  \\\n",
       "id                             None                      None   \n",
       "id_str                         None                      None   \n",
       "name                           None                      None   \n",
       "screen_name                    None                      None   \n",
       "location                       None                      None   \n",
       "...                             ...                       ...   \n",
       "filter_level                   None                      None   \n",
       "hashtags                       None                      None   \n",
       "urls                           None                      None   \n",
       "user_mentions                  None                      None   \n",
       "symbols                        None                      None   \n",
       "\n",
       "              in_reply_to_user_id in_reply_to_user_id_str  ... quote_count  \\\n",
       "id                           None                    None  ...           0   \n",
       "id_str                       None                    None  ...           0   \n",
       "name                         None                    None  ...           0   \n",
       "screen_name                  None                    None  ...           0   \n",
       "location                     None                    None  ...           0   \n",
       "...                           ...                     ...  ...         ...   \n",
       "filter_level                 None                    None  ...           0   \n",
       "hashtags                     None                    None  ...           0   \n",
       "urls                         None                    None  ...           0   \n",
       "user_mentions                None                    None  ...           0   \n",
       "symbols                      None                    None  ...           0   \n",
       "\n",
       "              reply_count retweet_count favorite_count  \\\n",
       "id                      0             0              0   \n",
       "id_str                  0             0              0   \n",
       "name                    0             0              0   \n",
       "screen_name             0             0              0   \n",
       "location                0             0              0   \n",
       "...                   ...           ...            ...   \n",
       "filter_level            0             0              0   \n",
       "hashtags                0             0              0   \n",
       "urls                    0             0              0   \n",
       "user_mentions           0             0              0   \n",
       "symbols                 0             0              0   \n",
       "\n",
       "                                                        entities favorited  \\\n",
       "id                                                           NaN     False   \n",
       "id_str                                                       NaN     False   \n",
       "name                                                         NaN     False   \n",
       "screen_name                                                  NaN     False   \n",
       "location                                                     NaN     False   \n",
       "...                                                          ...       ...   \n",
       "filter_level                                                 NaN     False   \n",
       "hashtags                                                      []     False   \n",
       "urls                                                          []     False   \n",
       "user_mentions  [{'screen_name': 'Marmel', 'name': 'Steve Marm...     False   \n",
       "symbols                                                       []     False   \n",
       "\n",
       "              retweeted  filter_level  lang   timestamp_ms  \n",
       "id                False           low    en  1616221278984  \n",
       "id_str            False           low    en  1616221278984  \n",
       "name              False           low    en  1616221278984  \n",
       "screen_name       False           low    en  1616221278984  \n",
       "location          False           low    en  1616221278984  \n",
       "...                 ...           ...   ...            ...  \n",
       "filter_level      False           low    en  1616221278984  \n",
       "hashtags          False           low    en  1616221278984  \n",
       "urls              False           low    en  1616221278984  \n",
       "user_mentions     False           low    en  1616221278984  \n",
       "symbols           False           low    en  1616221278984  \n",
       "\n",
       "[65 rows x 28 columns]"
      ]
     },
     "execution_count": 44,
     "metadata": {},
     "output_type": "execute_result"
    }
   ],
   "source": [
    "#criando um data frame para teste com a biblioteca do pandas\n",
    "teste = pd.DataFrame(primeirotweet)\n",
    "#para visualizar dar um print basta digitar o objeto\n",
    "teste"
   ]
  },
  {
   "cell_type": "code",
   "execution_count": null,
   "metadata": {},
   "outputs": [],
   "source": [
    "#para ver as colunas do dataframe\n",
    "teste.columns"
   ]
  },
  {
   "cell_type": "code",
   "execution_count": 52,
   "metadata": {},
   "outputs": [
    {
     "data": {
      "text/html": [
       "<div>\n",
       "<style scoped>\n",
       "    .dataframe tbody tr th:only-of-type {\n",
       "        vertical-align: middle;\n",
       "    }\n",
       "\n",
       "    .dataframe tbody tr th {\n",
       "        vertical-align: top;\n",
       "    }\n",
       "\n",
       "    .dataframe thead th {\n",
       "        text-align: right;\n",
       "    }\n",
       "</style>\n",
       "<table border=\"1\" class=\"dataframe\">\n",
       "  <thead>\n",
       "    <tr style=\"text-align: right;\">\n",
       "      <th></th>\n",
       "      <th>created_at</th>\n",
       "      <th>id</th>\n",
       "      <th>id_str</th>\n",
       "      <th>text</th>\n",
       "      <th>source</th>\n",
       "      <th>truncated</th>\n",
       "      <th>in_reply_to_status_id</th>\n",
       "      <th>in_reply_to_status_id_str</th>\n",
       "      <th>in_reply_to_user_id</th>\n",
       "      <th>in_reply_to_user_id_str</th>\n",
       "      <th>...</th>\n",
       "      <th>quote_count</th>\n",
       "      <th>reply_count</th>\n",
       "      <th>retweet_count</th>\n",
       "      <th>favorite_count</th>\n",
       "      <th>entities</th>\n",
       "      <th>favorited</th>\n",
       "      <th>retweeted</th>\n",
       "      <th>filter_level</th>\n",
       "      <th>lang</th>\n",
       "      <th>timestamp_ms</th>\n",
       "    </tr>\n",
       "  </thead>\n",
       "  <tbody>\n",
       "    <tr>\n",
       "      <th>0</th>\n",
       "      <td>Sat Mar 20 06:21:18 +0000 2021</td>\n",
       "      <td>1373157685785370627</td>\n",
       "      <td>1373157685785370627</td>\n",
       "      <td>RT @Marmel: Biden tripped.\\nHillary coughed.\\n...</td>\n",
       "      <td>&lt;a href=\"http://twitter.com/download/iphone\" r...</td>\n",
       "      <td>False</td>\n",
       "      <td>None</td>\n",
       "      <td>None</td>\n",
       "      <td>None</td>\n",
       "      <td>None</td>\n",
       "      <td>...</td>\n",
       "      <td>0</td>\n",
       "      <td>0</td>\n",
       "      <td>0</td>\n",
       "      <td>0</td>\n",
       "      <td>NaN</td>\n",
       "      <td>False</td>\n",
       "      <td>False</td>\n",
       "      <td>low</td>\n",
       "      <td>en</td>\n",
       "      <td>1616221278984</td>\n",
       "    </tr>\n",
       "    <tr>\n",
       "      <th>1</th>\n",
       "      <td>Sat Mar 20 06:21:18 +0000 2021</td>\n",
       "      <td>1373157685785370627</td>\n",
       "      <td>1373157685785370627</td>\n",
       "      <td>RT @Marmel: Biden tripped.\\nHillary coughed.\\n...</td>\n",
       "      <td>&lt;a href=\"http://twitter.com/download/iphone\" r...</td>\n",
       "      <td>False</td>\n",
       "      <td>None</td>\n",
       "      <td>None</td>\n",
       "      <td>None</td>\n",
       "      <td>None</td>\n",
       "      <td>...</td>\n",
       "      <td>0</td>\n",
       "      <td>0</td>\n",
       "      <td>0</td>\n",
       "      <td>0</td>\n",
       "      <td>NaN</td>\n",
       "      <td>False</td>\n",
       "      <td>False</td>\n",
       "      <td>low</td>\n",
       "      <td>en</td>\n",
       "      <td>1616221278984</td>\n",
       "    </tr>\n",
       "  </tbody>\n",
       "</table>\n",
       "<p>2 rows × 28 columns</p>\n",
       "</div>"
      ],
      "text/plain": [
       "                       created_at                   id               id_str  \\\n",
       "0  Sat Mar 20 06:21:18 +0000 2021  1373157685785370627  1373157685785370627   \n",
       "1  Sat Mar 20 06:21:18 +0000 2021  1373157685785370627  1373157685785370627   \n",
       "\n",
       "                                                text  \\\n",
       "0  RT @Marmel: Biden tripped.\\nHillary coughed.\\n...   \n",
       "1  RT @Marmel: Biden tripped.\\nHillary coughed.\\n...   \n",
       "\n",
       "                                              source  truncated  \\\n",
       "0  <a href=\"http://twitter.com/download/iphone\" r...      False   \n",
       "1  <a href=\"http://twitter.com/download/iphone\" r...      False   \n",
       "\n",
       "  in_reply_to_status_id in_reply_to_status_id_str in_reply_to_user_id  \\\n",
       "0                  None                      None                None   \n",
       "1                  None                      None                None   \n",
       "\n",
       "  in_reply_to_user_id_str  ... quote_count reply_count retweet_count  \\\n",
       "0                    None  ...           0           0             0   \n",
       "1                    None  ...           0           0             0   \n",
       "\n",
       "  favorite_count entities favorited retweeted  filter_level  lang  \\\n",
       "0              0      NaN     False     False           low    en   \n",
       "1              0      NaN     False     False           low    en   \n",
       "\n",
       "    timestamp_ms  \n",
       "0  1616221278984  \n",
       "1  1616221278984  \n",
       "\n",
       "[2 rows x 28 columns]"
      ]
     },
     "execution_count": 52,
     "metadata": {},
     "output_type": "execute_result"
    }
   ],
   "source": [
    "df_tratado = pd.DataFrame(primeirotweet).reset_index(drop=True).loc[:1]\n",
    "df_tratado"
   ]
  },
  {
   "cell_type": "code",
   "execution_count": 53,
   "metadata": {},
   "outputs": [
    {
     "data": {
      "text/plain": [
       "Index(['created_at', 'id', 'id_str', 'text', 'source', 'truncated',\n",
       "       'in_reply_to_status_id', 'in_reply_to_status_id_str',\n",
       "       'in_reply_to_user_id', 'in_reply_to_user_id_str',\n",
       "       'in_reply_to_screen_name', 'user', 'geo', 'coordinates', 'place',\n",
       "       'contributors', 'retweeted_status', 'is_quote_status', 'quote_count',\n",
       "       'reply_count', 'retweet_count', 'favorite_count', 'entities',\n",
       "       'favorited', 'retweeted', 'filter_level', 'lang', 'timestamp_ms'],\n",
       "      dtype='object')"
      ]
     },
     "execution_count": 53,
     "metadata": {},
     "output_type": "execute_result"
    }
   ],
   "source": [
    "df_tratado.columns"
   ]
  },
  {
   "cell_type": "code",
   "execution_count": 56,
   "metadata": {},
   "outputs": [],
   "source": [
    "#podemos usar o inplace=True para forçar o drop das colunas dentro do df_tratado\n",
    "#mas poderiamos atribuir a um novo DF\n",
    "df_tratado.drop(columns=['quote_count','reply_count', 'retweet_count', 'favorite_count','favorited', 'retweeted','user','entities',\n",
    "                        'retweeted_status'], inplace=True)"
   ]
  },
  {
   "cell_type": "code",
   "execution_count": 58,
   "metadata": {},
   "outputs": [
    {
     "data": {
      "text/plain": [
       "Index(['created_at', 'id', 'id_str', 'text', 'source', 'truncated',\n",
       "       'in_reply_to_status_id', 'in_reply_to_status_id_str',\n",
       "       'in_reply_to_user_id', 'in_reply_to_user_id_str',\n",
       "       'in_reply_to_screen_name', 'geo', 'coordinates', 'place',\n",
       "       'contributors', 'is_quote_status', 'filter_level', 'lang',\n",
       "       'timestamp_ms'],\n",
       "      dtype='object')"
      ]
     },
     "execution_count": 58,
     "metadata": {},
     "output_type": "execute_result"
    }
   ],
   "source": [
    "df_tratado.columns"
   ]
  },
  {
   "cell_type": "code",
   "execution_count": 62,
   "metadata": {},
   "outputs": [],
   "source": [
    "#criando novos campos no dataframe\n",
    "df_tratado['user_id'] = primeirotweet['user']['id']\n",
    "df_tratado['user_id_str'] = primeirotweet['user']['id_str']\n",
    "df_tratado['user_screen_name'] = primeirotweet['user']['screen_name']\n",
    "df_tratado['user_location'] = primeirotweet['user']['location']\n",
    "df_tratado['user_description'] = primeirotweet['user']['description']\n",
    "df_tratado['user_protected'] = primeirotweet['user']['protected']\n",
    "df_tratado['user_verified'] = primeirotweet['user']['verified']\n",
    "df_tratado['user_followers_count'] = primeirotweet['user']['followers_count']\n",
    "df_tratado['user_friends_count'] = primeirotweet['user']['friends_count']\n",
    "df_tratado['user_created_at'] = primeirotweet['user']['created_at']"
   ]
  },
  {
   "cell_type": "code",
   "execution_count": null,
   "metadata": {},
   "outputs": [],
   "source": [
    "df_tratado"
   ]
  },
  {
   "cell_type": "code",
   "execution_count": 64,
   "metadata": {},
   "outputs": [
    {
     "data": {
      "text/plain": [
       "{'hashtags': [],\n",
       " 'urls': [],\n",
       " 'user_mentions': [{'screen_name': 'Marmel',\n",
       "   'name': 'Steve Marmel',\n",
       "   'id': 5513002,\n",
       "   'id_str': '5513002',\n",
       "   'indices': [3, 10]}],\n",
       " 'symbols': []}"
      ]
     },
     "execution_count": 64,
     "metadata": {},
     "output_type": "execute_result"
    }
   ],
   "source": [
    "#entidades\n",
    "primeirotweet['entities']"
   ]
  },
  {
   "cell_type": "code",
   "execution_count": 66,
   "metadata": {},
   "outputs": [],
   "source": [
    "user_mentions = []\n",
    "\n",
    "for i in range(len(primeirotweet['entities']['user_mentions'])):\n",
    "    dicionariobase = primeirotweet['entities']['user_mentions'][i].copy()\n",
    "    ##remove alguma chave\n",
    "    dicionariobase.pop('indices',None)\n",
    "    df = pd.DataFrame(dicionariobase, index=[0])\n",
    "    df = df.rename(columns={\n",
    "        'screen_name': 'entities_screen_name',\n",
    "        'name': 'entities_name',\n",
    "        'id' : 'entities_id',\n",
    "        'id_str' : 'entities_id_str'\n",
    "    })\n",
    "    user_mentions.append(df)"
   ]
  },
  {
   "cell_type": "code",
   "execution_count": 69,
   "metadata": {},
   "outputs": [
    {
     "data": {
      "text/html": [
       "<div>\n",
       "<style scoped>\n",
       "    .dataframe tbody tr th:only-of-type {\n",
       "        vertical-align: middle;\n",
       "    }\n",
       "\n",
       "    .dataframe tbody tr th {\n",
       "        vertical-align: top;\n",
       "    }\n",
       "\n",
       "    .dataframe thead th {\n",
       "        text-align: right;\n",
       "    }\n",
       "</style>\n",
       "<table border=\"1\" class=\"dataframe\">\n",
       "  <thead>\n",
       "    <tr style=\"text-align: right;\">\n",
       "      <th></th>\n",
       "      <th>entities_screen_name</th>\n",
       "      <th>entities_name</th>\n",
       "      <th>entities_id</th>\n",
       "      <th>entities_id_str</th>\n",
       "    </tr>\n",
       "  </thead>\n",
       "  <tbody>\n",
       "    <tr>\n",
       "      <th>0</th>\n",
       "      <td>Marmel</td>\n",
       "      <td>Steve Marmel</td>\n",
       "      <td>5513002</td>\n",
       "      <td>5513002</td>\n",
       "    </tr>\n",
       "  </tbody>\n",
       "</table>\n",
       "</div>"
      ],
      "text/plain": [
       "  entities_screen_name entities_name  entities_id entities_id_str\n",
       "0               Marmel  Steve Marmel      5513002         5513002"
      ]
     },
     "execution_count": 69,
     "metadata": {},
     "output_type": "execute_result"
    }
   ],
   "source": [
    "user_mentions[0]"
   ]
  }
 ],
 "metadata": {
  "kernelspec": {
   "display_name": "Python 3",
   "language": "python",
   "name": "python3"
  },
  "language_info": {
   "codemirror_mode": {
    "name": "ipython",
    "version": 3
   },
   "file_extension": ".py",
   "mimetype": "text/x-python",
   "name": "python",
   "nbconvert_exporter": "python",
   "pygments_lexer": "ipython3",
   "version": "3.8.5"
  }
 },
 "nbformat": 4,
 "nbformat_minor": 4
}
